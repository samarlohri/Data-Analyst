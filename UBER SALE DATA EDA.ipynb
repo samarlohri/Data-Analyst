{
  "cells": [
    {
      "cell_type": "markdown",
      "metadata": {
        "id": "vncDsAP0Gaoa"
      },
      "source": [
        "# **Project Name**    -\n",
        "“Analysis of Ride Request Patterns in Uber”\n",
        "\n"
      ]
    },
    {
      "cell_type": "markdown",
      "metadata": {
        "id": "beRrZCGUAJYm"
      },
      "source": [
        "##### **Project Type**    - EDA\n",
        "##### **Contribution**    - Individual\n"
      ]
    },
    {
      "cell_type": "markdown",
      "metadata": {
        "id": "FJNUwmbgGyua"
      },
      "source": [
        "# **Project Summary -**"
      ]
    },
    {
      "cell_type": "markdown",
      "metadata": {
        "id": "F6v_1wHtG2nS"
      },
      "source": [
        "This project focuses on analyzing Uber ride request data to identify patterns and inefficiencies in ride fulfillment, particularly around cancellations and driver unavailability. The dataset contains 6,745 ride requests, including details such as pickup points (City or Airport), request times, driver assignment, and trip status.\n",
        "\n",
        "The goal of this analysis is to understand the supply-demand gap and the factors contributing to trip failures—namely, requests that were either cancelled or marked as no cars available. By examining time-based trends (hour of day, day of week) and location-based behavior, the project uncovers peak demand periods and operational weaknesses in Uber’s service.\n",
        "\n",
        "Key findings include:\n",
        "\n",
        "High demand during morning (5–10 AM) and evening (5–9 PM) hours\n",
        "\n",
        "Increased cancellations in the City and more ‘No Cars Available’ cases at the Airport\n",
        "\n",
        "Nearly 40% of trips did not have a driver assigned\n",
        "\n",
        "Only 42% of requests were successfully completed\n",
        "\n",
        "The insights from this analysis can help Uber make data-driven decisions to:\n",
        "\n",
        "Improve driver allocation strategies\n",
        "\n",
        "Minimize customer dissatisfaction\n",
        "\n",
        "Enhance overall operational efficiency\n",
        "\n",
        "This project demonstrates the power of exploratory data analysis (EDA) in identifying real-world business challenges and supporting strategic decision-making in ride-sharing services.\n",
        "\n"
      ]
    },
    {
      "cell_type": "markdown",
      "metadata": {
        "id": "w6K7xa23Elo4"
      },
      "source": [
        "# **GitHub Link -**"
      ]
    },
    {
      "cell_type": "markdown",
      "metadata": {
        "id": "h1o69JH3Eqqn"
      },
      "source": [
        "Provide your GitHub Link here."
      ]
    },
    {
      "cell_type": "markdown",
      "metadata": {
        "id": "yQaldy8SH6Dl"
      },
      "source": [
        "# **Problem Statement**\n"
      ]
    },
    {
      "cell_type": "markdown",
      "metadata": {
        "id": "DpeJGUA3kjGy"
      },
      "source": [
        "Uber is facing significant challenges with ride fulfillment during certain times of the day, especially in high-demand areas such as airports and cities. A large number of ride requests are either being cancelled or marked as no cars available, which negatively affects customer satisfaction and driver utilization. The company wants to understand patterns of trip failures in terms of time, location, and request status to improve service efficiency."
      ]
    },
    {
      "cell_type": "markdown",
      "metadata": {
        "id": "PH-0ReGfmX4f"
      },
      "source": [
        "#### **Define Your Business Objective?**"
      ]
    },
    {
      "cell_type": "markdown",
      "metadata": {
        "id": "PhDvGCAqmjP1"
      },
      "source": [
        "The objective is to analyze ride request data to:\n",
        "\n",
        "Identify peak hours of unfulfilled demand.\n",
        "\n",
        "Understand supply-demand gaps based on pickup points (City vs Airport).\n",
        "\n",
        "Determine patterns in cancellations and driver unavailability.\n",
        "\n",
        "Recommend data-driven solutions to:\n",
        "\n",
        "Improve driver allocation\n",
        "\n",
        "Minimize customer cancellations\n",
        "\n",
        "Optimize fleet availability during high-demand periods.\n",
        "\n"
      ]
    },
    {
      "cell_type": "markdown",
      "metadata": {
        "id": "O_i_v8NEhb9l"
      },
      "source": [
        "# ***Let's Begin !***"
      ]
    },
    {
      "cell_type": "markdown",
      "metadata": {
        "id": "HhfV-JJviCcP"
      },
      "source": [
        "## ***1. Know Your Data***"
      ]
    },
    {
      "cell_type": "markdown",
      "metadata": {
        "id": "Y3lxredqlCYt"
      },
      "source": [
        "### Import Libraries"
      ]
    },
    {
      "cell_type": "code",
      "execution_count": 12,
      "metadata": {
        "id": "M8Vqi-pPk-HR"
      },
      "outputs": [],
      "source": [
        "# Import Libraries\n",
        "import pandas as pd\n",
        "import seaborn as sns\n",
        "import matplotlib.pyplot as plt"
      ]
    },
    {
      "cell_type": "markdown",
      "metadata": {
        "id": "3RnN4peoiCZX"
      },
      "source": [
        "### Dataset Loading"
      ]
    },
    {
      "cell_type": "code",
      "execution_count": 25,
      "metadata": {
        "id": "4CkvbW_SlZ_R"
      },
      "outputs": [],
      "source": [
        "# Load \n",
        "df = pd.read_csv(\"D:/JN/uber Request Data.csv\")"
      ]
    },
    {
      "cell_type": "markdown",
      "metadata": {
        "id": "x71ZqKXriCWQ"
      },
      "source": [
        "### Dataset First View"
      ]
    },
    {
      "cell_type": "code",
      "execution_count": 26,
      "metadata": {
        "id": "LWNFOSvLl09H"
      },
      "outputs": [
        {
          "name": "stdout",
          "output_type": "stream",
          "text": [
            "      Request id Pickup point  Driver id             Status  \\\n",
            "0            619      Airport        1.0     Trip Completed   \n",
            "1            867      Airport        1.0     Trip Completed   \n",
            "2           1807         City        1.0     Trip Completed   \n",
            "3           2532      Airport        1.0     Trip Completed   \n",
            "4           3112         City        1.0     Trip Completed   \n",
            "...          ...          ...        ...                ...   \n",
            "6740        6745         City        NaN  No Cars Available   \n",
            "6741        6752      Airport        NaN  No Cars Available   \n",
            "6742        6751         City        NaN  No Cars Available   \n",
            "6743        6754         City        NaN  No Cars Available   \n",
            "6744        6753      Airport        NaN  No Cars Available   \n",
            "\n",
            "        Request timestamp       Drop timestamp  \n",
            "0         11/7/2016 11:51      11/7/2016 13:00  \n",
            "1         11/7/2016 17:57      11/7/2016 18:47  \n",
            "2          12/7/2016 9:17       12/7/2016 9:58  \n",
            "3         12/7/2016 21:08      12/7/2016 22:03  \n",
            "4     13-07-2016 08:33:16  13-07-2016 09:25:47  \n",
            "...                   ...                  ...  \n",
            "6740  15-07-2016 23:49:03                  NaN  \n",
            "6741  15-07-2016 23:50:05                  NaN  \n",
            "6742  15-07-2016 23:52:06                  NaN  \n",
            "6743  15-07-2016 23:54:39                  NaN  \n",
            "6744  15-07-2016 23:55:03                  NaN  \n",
            "\n",
            "[6745 rows x 6 columns]\n"
          ]
        }
      ],
      "source": [
        "# Dataset First Look\n",
        "print(df)"
      ]
    },
    {
      "cell_type": "markdown",
      "metadata": {
        "id": "7hBIi_osiCS2"
      },
      "source": [
        "### Dataset Rows & Columns count"
      ]
    },
    {
      "cell_type": "code",
      "execution_count": 27,
      "metadata": {
        "id": "Kllu7SJgmLij"
      },
      "outputs": [
        {
          "name": "stdout",
          "output_type": "stream",
          "text": [
            "Request id           6745\n",
            "Pickup point         6745\n",
            "Driver id            4095\n",
            "Status               6745\n",
            "Request timestamp    6745\n",
            "Drop timestamp       2831\n",
            "dtype: int64\n"
          ]
        }
      ],
      "source": [
        "# Dataset Rows & Columns count\n",
        "print(df.count())"
      ]
    },
    {
      "cell_type": "markdown",
      "metadata": {
        "id": "JlHwYmJAmNHm"
      },
      "source": [
        "### Dataset Information"
      ]
    },
    {
      "cell_type": "code",
      "execution_count": 28,
      "metadata": {
        "id": "e9hRXRi6meOf"
      },
      "outputs": [
        {
          "name": "stdout",
          "output_type": "stream",
          "text": [
            "<class 'pandas.core.frame.DataFrame'>\n",
            "RangeIndex: 6745 entries, 0 to 6744\n",
            "Data columns (total 6 columns):\n",
            " #   Column             Non-Null Count  Dtype  \n",
            "---  ------             --------------  -----  \n",
            " 0   Request id         6745 non-null   int64  \n",
            " 1   Pickup point       6745 non-null   object \n",
            " 2   Driver id          4095 non-null   float64\n",
            " 3   Status             6745 non-null   object \n",
            " 4   Request timestamp  6745 non-null   object \n",
            " 5   Drop timestamp     2831 non-null   object \n",
            "dtypes: float64(1), int64(1), object(4)\n",
            "memory usage: 316.3+ KB\n",
            "None\n"
          ]
        }
      ],
      "source": [
        "# Dataset Info\n",
        "print(df.info())"
      ]
    },
    {
      "cell_type": "markdown",
      "metadata": {
        "id": "35m5QtbWiB9F"
      },
      "source": [
        "#### Duplicate Values"
      ]
    },
    {
      "cell_type": "code",
      "execution_count": 29,
      "metadata": {
        "id": "1sLdpKYkmox0"
      },
      "outputs": [
        {
          "data": {
            "text/plain": [
              "np.False_"
            ]
          },
          "execution_count": 29,
          "metadata": {},
          "output_type": "execute_result"
        }
      ],
      "source": [
        "# Dataset Duplicate Value Count\n",
        "df.duplicated().any()\n"
      ]
    },
    {
      "cell_type": "markdown",
      "metadata": {
        "id": "PoPl-ycgm1ru"
      },
      "source": [
        "#### Missing Values/Null Values"
      ]
    },
    {
      "cell_type": "code",
      "execution_count": 30,
      "metadata": {
        "id": "GgHWkxvamxVg"
      },
      "outputs": [
        {
          "data": {
            "text/plain": [
              "np.True_"
            ]
          },
          "execution_count": 30,
          "metadata": {},
          "output_type": "execute_result"
        }
      ],
      "source": [
        "# Missing Values/Null Values Count\n",
        "df.isnull().values.any()\n"
      ]
    },
    {
      "cell_type": "code",
      "execution_count": 31,
      "metadata": {
        "id": "3q5wnI3om9sJ"
      },
      "outputs": [
        {
          "data": {
            "image/png": "[encoded data removed]",
            "text/plain": [
              "<Figure size 1000x600 with 1 Axes>"
            ]
          },
          "metadata": {},
          "output_type": "display_data"
        }
      ],
      "source": [
        "# Visualizing the missing values\n",
        "plt.figure(figsize=(10, 6))\n",
        "sns.heatmap(df.isnull(), cbar=False, cmap='magma', yticklabels=False)\n",
        "plt.title(\"Missing Values Heatmap\")\n",
        "plt.xlabel(\"Columns\")\n",
        "plt.ylabel(\"Records\")\n",
        "plt.show()"
      ]
    },
    {
      "cell_type": "markdown",
      "metadata": {
        "id": "H0kj-8xxnORC"
      },
      "source": [
        "### What did you know about your dataset?"
      ]
    },
    {
      "cell_type": "markdown",
      "metadata": {
        "id": "gfoNAAC-nUe_"
      },
      "source": [
        "Trip Status Distribution:\n",
        "\n",
        "Many requests were not completed: either cancelled or no cars available\n",
        "\n",
        "Only ~42% of trips have a valid drop timestamp\n",
        "\n",
        "Driver Availability:\n",
        "\n",
        "About 39% of records are missing Driver id → likely no driver assigned\n",
        "\n",
        "Indicates supply issues during certain hours or locations\n",
        "\n",
        "Time Trends:\n",
        "\n",
        "Two demand peaks:\n",
        "\n",
        "Morning (5–10 AM)\n",
        "\n",
        "Evening (5–9 PM)\n",
        "\n",
        "These coincide with work commute and flight times\n",
        "\n",
        "Location-Based Gaps:\n",
        "\n",
        "Clear difference in status distribution between City and Airport\n",
        "\n",
        "More No Cars Available at Airport\n",
        "\n",
        "More Cancelled trips in City"
      ]
    },
    {
      "cell_type": "markdown",
      "metadata": {
        "id": "nA9Y7ga8ng1Z"
      },
      "source": [
        "## ***2. Understanding Your Variables***"
      ]
    },
    {
      "cell_type": "code",
      "execution_count": 18,
      "metadata": {
        "id": "j7xfkqrt5Ag5"
      },
      "outputs": [
        {
          "data": {
            "text/plain": [
              "Index(['Request_id', 'Pickup_point', 'Driver_id', 'Status',\n",
              "       'Request_timestamp', 'Drop_timestamp', 'Date', 'Hour'],\n",
              "      dtype='object')"
            ]
          },
          "execution_count": 18,
          "metadata": {},
          "output_type": "execute_result"
        }
      ],
      "source": [
        "# Dataset Columns\n",
        "df.columns"
      ]
    },
    {
      "cell_type": "code",
      "execution_count": 32,
      "metadata": {
        "id": "DnOaZdaE5Q5t"
      },
      "outputs": [
        {
          "data": {
            "text/plain": [
              "<bound method NDFrame.describe of       Request id Pickup point  Driver id             Status  \\\n",
              "0            619      Airport        1.0     Trip Completed   \n",
              "1            867      Airport        1.0     Trip Completed   \n",
              "2           1807         City        1.0     Trip Completed   \n",
              "3           2532      Airport        1.0     Trip Completed   \n",
              "4           3112         City        1.0     Trip Completed   \n",
              "...          ...          ...        ...                ...   \n",
              "6740        6745         City        NaN  No Cars Available   \n",
              "6741        6752      Airport        NaN  No Cars Available   \n",
              "6742        6751         City        NaN  No Cars Available   \n",
              "6743        6754         City        NaN  No Cars Available   \n",
              "6744        6753      Airport        NaN  No Cars Available   \n",
              "\n",
              "        Request timestamp       Drop timestamp  \n",
              "0         11/7/2016 11:51      11/7/2016 13:00  \n",
              "1         11/7/2016 17:57      11/7/2016 18:47  \n",
              "2          12/7/2016 9:17       12/7/2016 9:58  \n",
              "3         12/7/2016 21:08      12/7/2016 22:03  \n",
              "4     13-07-2016 08:33:16  13-07-2016 09:25:47  \n",
              "...                   ...                  ...  \n",
              "6740  15-07-2016 23:49:03                  NaN  \n",
              "6741  15-07-2016 23:50:05                  NaN  \n",
              "6742  15-07-2016 23:52:06                  NaN  \n",
              "6743  15-07-2016 23:54:39                  NaN  \n",
              "6744  15-07-2016 23:55:03                  NaN  \n",
              "\n",
              "[6745 rows x 6 columns]>"
            ]
          },
          "execution_count": 32,
          "metadata": {},
          "output_type": "execute_result"
        }
      ],
      "source": [
        "# Dataset Describe\n",
        "df.describe"
      ]
    },
    {
      "cell_type": "markdown",
      "metadata": {
        "id": "PBTbrJXOngz2"
      },
      "source": [
        "### Variables Description"
      ]
    },
    {
      "cell_type": "markdown",
      "metadata": {
        "id": "aJV4KIxSnxay"
      },
      "source": [
        "Here we check every column of the dataset variable have unique values. "
      ]
    },
    {
      "cell_type": "markdown",
      "metadata": {
        "id": "u3PMJOP6ngxN"
      },
      "source": [
        "### Check Unique Values for each variable."
      ]
    },
    {
      "cell_type": "code",
      "execution_count": 23,
      "metadata": {
        "id": "zms12Yq5n-jE"
      },
      "outputs": [
        {
          "name": "stdout",
          "output_type": "stream",
          "text": [
            "\n",
            "Column: Request_id\n",
            "Unique Values:\n",
            "[   1    2    3 ... 6764 6765 6766]\n",
            "Number of Unique Values: 6745\n",
            "\n",
            "Column: Pickup_point\n",
            "Unique Values:\n",
            "['Airport' 'City']\n",
            "Number of Unique Values: 2\n",
            "\n",
            "Column: Driver_id\n",
            "Unique Values:\n",
            "[285.  nan  80. 264. 235. 228. 198. 119. 201. 194. 297. 170.  78. 107.\n",
            " 109.  12. 124. 150. 100.  86.  95. 141.  52. 255. 239. 158. 171.   3.\n",
            "  73. 290.  28. 144. 174. 213.  76. 280. 126. 234.  16.  69. 265. 270.\n",
            "  21. 138. 205.  70. 256.  99. 182. 215. 248. 284.  22.  62. 116. 185.\n",
            " 217. 244. 286.  44. 204. 268.  63. 130.  38.  40. 173.  43. 189. 206.\n",
            " 247. 121.  14. 279.  49. 134. 157. 291.  33. 191. 267. 105. 111.   9.\n",
            " 294.  13.  96. 226. 289.  72. 161. 137. 199. 269. 184. 113.  59. 188.\n",
            " 160.  67. 169. 112. 159. 225. 252. 292. 236. 288. 114.  37. 202.  24.\n",
            " 249.  36.  94.  27. 230. 232.  50.  79. 106.  54. 183.  30. 283. 203.\n",
            " 245. 151. 131.  61.  56.  42.  98. 168. 108. 139. 211.  87.   7. 166.\n",
            "  39.  66.  89. 273. 118. 165. 220. 193.   2.  81. 243. 261. 219. 196.\n",
            " 298.  74.  82. 195. 224. 231. 176. 278. 238. 233. 209. 276. 221. 272.\n",
            "  15. 240. 149.   5.  53. 275. 145. 146. 187.  26.  57.  85. 110. 254.\n",
            " 223. 259. 103. 197. 129. 164.  20. 153.  35. 262. 102.  77.  47. 186.\n",
            "   8. 253. 200.  68. 266. 212. 260.  32. 120. 132. 216. 274. 242. 251.\n",
            " 271.  84.  46. 104.  88. 148. 246. 177. 123. 156.  48. 142. 162. 155.\n",
            " 152. 178.  34.  75.  71. 258. 295. 296. 179.  19.  18. 167. 127.  83.\n",
            "  23.  55.  91. 175. 128. 135.  97. 277.  64. 281. 214. 154.   1.  60.\n",
            " 136.  31. 125.  17. 143. 101.  58. 115.   4. 282. 163.  51. 133. 218.\n",
            " 172. 263.  65. 299.  25. 180. 192. 287.  92. 207. 241.  93. 227. 147.\n",
            " 293. 122. 181. 208. 222. 257. 300. 237. 229.   6.  45. 210.  90. 190.\n",
            "  29. 250.  10.  41. 140.  11. 117.]\n",
            "Number of Unique Values: 300\n",
            "\n",
            "Column: Status\n",
            "Unique Values:\n",
            "['Trip Completed' 'No Cars Available' 'Cancelled']\n",
            "Number of Unique Values: 3\n",
            "\n",
            "Column: Request_timestamp\n",
            "Unique Values:\n",
            "['12:20 AM' '12:23 AM' '12:24 AM' ... '11:48 PM' '11:55 PM' '12:04 AM']\n",
            "Number of Unique Values: 1351\n",
            "\n",
            "Column: Drop_timestamp\n",
            "Unique Values:\n",
            "['12:51 AM' nan '1:31 AM' ... '12:20 AM' '12:30 AM' '12:36 AM']\n",
            "Number of Unique Values: 1150\n",
            "\n",
            "Column: Date\n",
            "Unique Values:\n",
            "['11-07-2016' '12-07-2016' '13-07-2016' '14-07-2016' '15-07-2016']\n",
            "Number of Unique Values: 5\n",
            "\n",
            "Column: Hour\n",
            "Unique Values:\n",
            "[ 0  1  2  3  4  5  6  7  8  9 10 11 12 13 14 15 16 17 18 19 20 21 22 23]\n",
            "Number of Unique Values: 24\n"
          ]
        }
      ],
      "source": [
        "# Check Unique Values for each variable.\n",
        "for col in df.columns:\n",
        "    print(f\"\\nColumn: {col}\")\n",
        "    print(\"Unique Values:\")\n",
        "    print(df[col].unique())\n",
        "    print(\"Number of Unique Values:\", df[col].nunique())\n"
      ]
    },
    {
      "cell_type": "markdown",
      "metadata": {
        "id": "dauF4eBmngu3"
      },
      "source": [
        "## 3. ***Data Wrangling***"
      ]
    },
    {
      "cell_type": "markdown",
      "metadata": {
        "id": "bKJF3rekwFvQ"
      },
      "source": [
        "### Data Wrangling Code"
      ]
    },
    {
      "cell_type": "code",
      "execution_count": 24,
      "metadata": {
        "id": "wk-9a2fpoLcV"
      },
      "outputs": [
        {
          "name": "stdout",
          "output_type": "stream",
          "text": [
            "Missing Values:\n",
            " Request id              0\n",
            "Pickup point            0\n",
            "Driver id            2650\n",
            "Status                  0\n",
            "Request timestamp    4071\n",
            "Drop timestamp       5595\n",
            "Request Date         4071\n",
            "Request Hour         4071\n",
            "Request Day          4071\n",
            "dtype: int64\n",
            "\n",
            "Data Types After Cleaning:\n",
            " Request id                    int64\n",
            "Pickup point               category\n",
            "Driver id                   float64\n",
            "Status                     category\n",
            "Request timestamp    datetime64[ns]\n",
            "Drop timestamp       datetime64[ns]\n",
            "Request Date                 object\n",
            "Request Hour                float64\n",
            "Request Day                  object\n",
            "dtype: object\n",
            "\n",
            "Cleaned Data Sample:\n",
            "    Request id Pickup point  Driver id          Status   Request timestamp  \\\n",
            "0         619      Airport        1.0  Trip Completed 2016-07-11 11:51:00   \n",
            "1         867      Airport        1.0  Trip Completed 2016-07-11 17:57:00   \n",
            "2        1807         City        1.0  Trip Completed 2016-07-12 09:17:00   \n",
            "3        2532      Airport        1.0  Trip Completed 2016-07-12 21:08:00   \n",
            "4        3112         City        1.0  Trip Completed                 NaT   \n",
            "\n",
            "       Drop timestamp Request Date  Request Hour Request Day  \n",
            "0 2016-07-11 13:00:00   2016-07-11          11.0      Monday  \n",
            "1 2016-07-11 18:47:00   2016-07-11          17.0      Monday  \n",
            "2 2016-07-12 09:58:00   2016-07-12           9.0     Tuesday  \n",
            "3 2016-07-12 22:03:00   2016-07-12          21.0     Tuesday  \n",
            "4                 NaT          NaT           NaN         NaN  \n"
          ]
        },
        {
          "name": "stderr",
          "output_type": "stream",
          "text": [
            "C:\\Users\\abcd\\AppData\\Local\\Temp\\ipykernel_2060\\1178932455.py:17: FutureWarning: A value is trying to be set on a copy of a DataFrame or Series through chained assignment using an inplace method.\n",
            "The behavior will change in pandas 3.0. This inplace method will never work because the intermediate object on which we are setting values always behaves as a copy.\n",
            "\n",
            "For example, when doing 'df[col].method(value, inplace=True)', try using 'df.method({col: value}, inplace=True)' or df[col] = df[col].method(value) instead, to perform the operation inplace on the original object.\n",
            "\n",
            "\n",
            "  df['Driver id'].fillna(-1, inplace=True)\n"
          ]
        }
      ],
      "source": [
        "\n",
        "import pandas as pd\n",
        "\n",
        "df = pd.read_csv(\"D:/JN/uber Request data.csv\")\n",
        "\n",
        "\n",
        "df['Request timestamp'] = pd.to_datetime(df['Request timestamp'], dayfirst=True, errors='coerce')\n",
        "df['Drop timestamp'] = pd.to_datetime(df['Drop timestamp'], dayfirst=True, errors='coerce')\n",
        "\n",
        "df['Request Date'] = df['Request timestamp'].dt.date\n",
        "df['Request Hour'] = df['Request timestamp'].dt.hour\n",
        "df['Request Day'] = df['Request timestamp'].dt.day_name()\n",
        "\n",
        "\n",
        "print(\"Missing Values:\\n\", df.isnull().sum())\n",
        "\n",
        "\n",
        "df['Driver id'].fillna(-1, inplace=True)\n",
        "\n",
        "\n",
        "df['Pickup point'] = df['Pickup point'].astype('category')\n",
        "df['Status'] = df['Status'].astype('category')\n",
        "\n",
        "\n",
        "df.drop_duplicates(inplace=True)\n",
        "\n",
        "\n",
        "df.reset_index(drop=True, inplace=True)\n",
        "\n",
        "\n",
        "print(\"\\nData Types After Cleaning:\\n\", df.dtypes)\n",
        "print(\"\\nCleaned Data Sample:\\n\", df.head())\n"
      ]
    },
    {
      "cell_type": "markdown",
      "metadata": {
        "id": "MSa1f5Uengrz"
      },
      "source": [
        "### What all manipulations have you done and insights you found?"
      ]
    },
    {
      "cell_type": "markdown",
      "metadata": {
        "id": "LbyXE7I1olp8"
      },
      "source": [
        "\n",
        "<!-- This script does the following: -->\n",
        "1.Converts messy timestamps into usable datetime objects.\n",
        "\n",
        "2.Creates new features: Request Hour, Day, and Date for time analysis.\n",
        "\n",
        "3.Handles missing values (you can customize how).\n",
        "\n",
        "4.Sets appropriate data types.\n",
        "\n",
        "5.Removes duplicates for clean analysis."
      ]
    },
    {
      "cell_type": "markdown",
      "metadata": {
        "id": "JcMwzZxoAimU"
      },
      "source": [
        "## **4. Solution to Business Objective**"
      ]
    },
    {
      "cell_type": "markdown",
      "metadata": {
        "id": "8G2x9gOozGDZ"
      },
      "source": [
        "#### What do you suggest the client to achieve Business Objective ?\n",
        "Explain Briefly."
      ]
    },
    {
      "cell_type": "markdown",
      "metadata": {
        "id": "pASKb0qOza21"
      },
      "source": [
        "Value to Client:\n",
        "\n",
        "🔄 Improved operational efficiency\n",
        "\n",
        "💰 Higher ride completion rate = More revenue\n",
        "\n",
        "😊 Better customer experience = Higher retention\n",
        "\n",
        "🚖 Smarter driver utilization = Cost savings"
      ]
    },
    {
      "cell_type": "markdown",
      "metadata": {
        "id": "gCX9965dhzqZ"
      },
      "source": [
        "# **Conclusion**"
      ]
    },
    {
      "cell_type": "markdown",
      "metadata": {
        "id": "Fjb1IsQkh3yE"
      },
      "source": [
        "This project highlights critical operational inefficiencies in Uber’s service—particularly in driver allocation, peak hour coverage, and fulfillment rates. By leveraging insights from data, Uber can:\n",
        "\n",
        "Better match supply with demand,\n",
        "\n",
        "Reduce cancellations and unfulfilled rides,\n",
        "\n",
        "Improve customer experience and driver utilization,\n",
        "\n",
        "and ultimately increase overall revenue and operational efficiency.\n",
        "\n"
      ]
    },
    {
      "cell_type": "markdown",
      "metadata": {},
      "source": [
        "# **Thank You**"
      ]
    }
  ],
  "metadata": {
    "colab": {
      "collapsed_sections": [
        "vncDsAP0Gaoa",
        "FJNUwmbgGyua",
        "w6K7xa23Elo4",
        "yQaldy8SH6Dl",
        "PH-0ReGfmX4f",
        "mDgbUHAGgjLW",
        "O_i_v8NEhb9l",
        "HhfV-JJviCcP",
        "Y3lxredqlCYt",
        "3RnN4peoiCZX",
        "x71ZqKXriCWQ",
        "7hBIi_osiCS2",
        "JlHwYmJAmNHm",
        "35m5QtbWiB9F",
        "PoPl-ycgm1ru",
        "H0kj-8xxnORC",
        "nA9Y7ga8ng1Z",
        "PBTbrJXOngz2",
        "u3PMJOP6ngxN",
        "dauF4eBmngu3",
        "bKJF3rekwFvQ",
        "MSa1f5Uengrz",
        "GF8Ens_Soomf",
        "0wOQAZs5pc--",
        "K5QZ13OEpz2H",
        "lQ7QKXXCp7Bj",
        "448CDAPjqfQr",
        "KSlN3yHqYklG",
        "t6dVpIINYklI",
        "ijmpgYnKYklI",
        "-JiQyfWJYklI",
        "EM7whBJCYoAo",
        "fge-S5ZAYoAp",
        "85gYPyotYoAp",
        "RoGjAbkUYoAp",
        "4Of9eVA-YrdM",
        "iky9q4vBYrdO",
        "F6T5p64dYrdO",
        "y-Ehk30pYrdP",
        "bamQiAODYuh1",
        "QHF8YVU7Yuh3",
        "GwzvFGzlYuh3",
        "qYpmQ266Yuh3",
        "OH-pJp9IphqM",
        "bbFf2-_FphqN",
        "_ouA3fa0phqN",
        "Seke61FWphqN",
        "PIIx-8_IphqN",
        "t27r6nlMphqO",
        "r2jJGEOYphqO",
        "b0JNsNcRphqO",
        "BZR9WyysphqO",
        "jj7wYXLtphqO",
        "eZrbJ2SmphqO",
        "rFu4xreNphqO",
        "YJ55k-q6phqO",
        "gCFgpxoyphqP",
        "OVtJsKN_phqQ",
        "lssrdh5qphqQ",
        "U2RJ9gkRphqQ",
        "1M8mcRywphqQ",
        "tgIPom80phqQ",
        "JMzcOPDDphqR",
        "x-EpHcCOp1ci",
        "X_VqEhTip1ck",
        "8zGJKyg5p1ck",
        "PVzmfK_Ep1ck",
        "n3dbpmDWp1ck",
        "ylSl6qgtp1ck",
        "ZWILFDl5p1ck",
        "M7G43BXep1ck",
        "Ag9LCva-p1cl",
        "E6MkPsBcp1cl",
        "2cELzS2fp1cl",
        "3MPXvC8up1cl",
        "NC_X3p0fY2L0",
        "UV0SzAkaZNRQ",
        "YPEH6qLeZNRQ",
        "q29F0dvdveiT",
        "EXh0U9oCveiU",
        "22aHeOlLveiV",
        "JcMwzZxoAimU",
        "8G2x9gOozGDZ",
        "gCX9965dhzqZ",
        "gIfDvo9L0UH2"
      ],
      "private_outputs": true,
      "provenance": []
    },
    "kernelspec": {
      "display_name": "Python 3",
      "name": "python3"
    },
    "language_info": {
      "codemirror_mode": {
        "name": "ipython",
        "version": 3
      },
      "file_extension": ".py",
      "mimetype": "text/x-python",
      "name": "python",
      "nbconvert_exporter": "python",
      "pygments_lexer": "ipython3",
      "version": "3.13.5"
    }
  },
  "nbformat": 4,
  "nbformat_minor": 0
}
